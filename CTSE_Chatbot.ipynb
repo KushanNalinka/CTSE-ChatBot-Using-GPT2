{
  "nbformat": 4,
  "nbformat_minor": 0,
  "metadata": {
    "colab": {
      "provenance": [],
      "gpuType": "T4"
    },
    "kernelspec": {
      "name": "python3",
      "display_name": "Python 3"
    },
    "language_info": {
      "name": "python"
    },
    "accelerator": "GPU"
  },
  "cells": [
    {
      "cell_type": "code",
      "execution_count": null,
      "metadata": {
        "collapsed": true,
        "id": "aCsV9ahzHeGz"
      },
      "outputs": [],
      "source": [
        "!pip install -q langchain langchain-community openai chromadb unstructured pdfminer.six tiktoken faiss-cpu PyPDF2 transformers accelerate"
      ]
    },
    {
      "cell_type": "code",
      "source": [
        "from langchain.vectorstores import Chroma\n",
        "from langchain.document_loaders import PyPDFLoader, UnstructuredFileLoader\n",
        "from langchain.embeddings import HuggingFaceEmbeddings\n",
        "from langchain.llms import HuggingFacePipeline\n",
        "from langchain.text_splitter import RecursiveCharacterTextSplitter\n",
        "from langchain.chains import RetrievalQA\n",
        "from transformers import pipeline, AutoModelForCausalLM, AutoTokenizer\n",
        "import torch\n",
        "import os"
      ],
      "metadata": {
        "id": "CYu1PV4LYs-s"
      },
      "execution_count": null,
      "outputs": []
    },
    {
      "cell_type": "code",
      "source": [
        "uploaded = files.upload()"
      ],
      "metadata": {
        "id": "YH3JmhyFJRro"
      },
      "execution_count": null,
      "outputs": []
    },
    {
      "cell_type": "code",
      "source": [
        "#pdf_path = next(iter(uploaded))  # Gets the filename\n",
        "pdf_path = \"CTSE_Lecture_Notes.pdf\"\n",
        "loader = PyPDFLoader(pdf_path)\n",
        "docs = loader.load()\n",
        "\n",
        "# Add metadata\n",
        "for doc in docs:\n",
        "    doc.metadata[\"source\"] = pdf_path\n"
      ],
      "metadata": {
        "collapsed": true,
        "id": "jqZCboR6Ler4"
      },
      "execution_count": null,
      "outputs": []
    },
    {
      "cell_type": "code",
      "source": [
        "text_splitter = RecursiveCharacterTextSplitter(\n",
        "    # Use 'separators' instead of 'separator'\n",
        "    chunk_size=1000,\n",
        "    chunk_overlap=200\n",
        ")\n",
        "\n",
        "chunks = text_splitter.split_documents(docs)\n",
        "print(f\"Total chunks: {len(chunks)}\")\n"
      ],
      "metadata": {
        "id": "OJstHPOeLqve"
      },
      "execution_count": null,
      "outputs": []
    },
    {
      "cell_type": "code",
      "source": [
        "embedding = HuggingFaceEmbeddings(model_name=\"sentence-transformers/all-MiniLM-L6-v2\", model_kwargs={\"device\": \"cpu\"})\n",
        "vectorstore = Chroma.from_documents(chunks, embedding, persist_directory=\"ctse_index\")\n",
        "vectorstore.persist()"
      ],
      "metadata": {
        "id": "gzaC0NJoLz2d",
        "collapsed": true
      },
      "execution_count": null,
      "outputs": []
    },
    {
      "cell_type": "code",
      "source": [
        "# Initialize GPT-2 and setup text generation pipeline\n",
        "model_name = \"gpt2\"\n",
        "device = \"cpu\"\n",
        "tokenizer = AutoTokenizer.from_pretrained(model_name)\n",
        "model = AutoModelForCausalLM.from_pretrained(model_name).to(device)\n",
        "\n",
        "# Ensure GPT-2 uses padding token if missing\n",
        "tokenizer.add_special_tokens({'pad_token': '[PAD]'})\n",
        "model.resize_token_embeddings(len(tokenizer))\n",
        "\n",
        "model.config.pad_token_id = tokenizer.pad_token_id"
      ],
      "metadata": {
        "id": "nPqe0a-Ys0kf",
        "collapsed": true
      },
      "execution_count": null,
      "outputs": []
    },
    {
      "cell_type": "code",
      "source": [
        "# Load QA-capable model using GPT2\n",
        "qa_pipeline = pipeline(\n",
        "    \"text-generation\",\n",
        "    model=model,\n",
        "    tokenizer=tokenizer,\n",
        "    device=-1,\n",
        "    max_new_tokens=200,\n",
        "    do_sample=True,\n",
        "    top_p=0.9,\n",
        "    temperature=0.7,\n",
        "    truncation=True\n",
        ")\n",
        "\n",
        "llm = HuggingFacePipeline(pipeline=qa_pipeline)"
      ],
      "metadata": {
        "id": "s1aP0XhcTwAC",
        "collapsed": true
      },
      "execution_count": null,
      "outputs": []
    },
    {
      "cell_type": "code",
      "source": [
        "# Generate Response\n",
        "def Chatbot(query, top_k=4):\n",
        "    results = vectorstore.similarity_search(query, k=top_k)\n",
        "    context = \"\\n\\n\".join([doc.page_content for doc in results])\n",
        "\n",
        "    prompt = f\"\"\"\n",
        "Context:\n",
        "{context}\n",
        "\n",
        "Question: Answer for the below question by analyzing the above context.\n",
        "{query}\n",
        "\n",
        "Answer:\n",
        "\"\"\"\n",
        "\n",
        "    #print(\"Prompt before sending to GPU:\", prompt)\n",
        "    response = qa_pipeline(prompt)[0]['generated_text']\n",
        "\n",
        "    # Extract only the answer part (everything after 'Answer:')\n",
        "    if \"Answer:\" in response:\n",
        "        return response.split(\"Answer:\")[-1].strip()\n",
        "    else:\n",
        "        return response.strip()"
      ],
      "metadata": {
        "id": "G-YPpwGKT4qb"
      },
      "execution_count": null,
      "outputs": []
    },
    {
      "cell_type": "code",
      "source": [
        "query = \"What are the DevOps Tools and Technologies?\"\n",
        "response = Chatbot(query)\n",
        "print(\"Question:\", query)\n",
        "print(\"Answer:\", response)"
      ],
      "metadata": {
        "id": "T1X_OM_EVA7U",
        "collapsed": true,
        "colab": {
          "base_uri": "https://localhost:8080/"
        },
        "outputId": "1d68e649-a744-4818-91be-bcc618952254"
      },
      "execution_count": 29,
      "outputs": [
        {
          "output_type": "stream",
          "name": "stdout",
          "text": [
            "Question: What are the DevOps Tools and Technologies?\n",
            "Answer: The DevOps Tools and Technologies are the best available tools for developing software for the benefit of all \n",
            "\n",
            "users and organizations.\n",
            "\n",
            "The DevOps Tools and Technologies are:\n",
            "\n",
            "• Continuous Delivery - Continuous delivery\n",
            "\n",
            "• Continuous Delivery is the ability to automatically deliver to customers at any time.\n",
            "\n",
            "• Deployment - Deployment is a process that allows you to deploy to a given set of systems.\n",
            "\n",
            "• Deployment is a process that allows you to deploy to a given set of systems. Continuous Integration - Continuous integration is the ability to build, test, and deploy \n",
            "\n",
            "in a single pipeline.\n",
            "\n",
            "• Continuous Integration is the ability to build, test, and deploy in a single pipeline. Deployment - Deployment is a process that allows you to deploy to a given set of systems.\n",
            "\n",
            "• Deployment is a process that allows you to deploy to a given set of systems. Deployment is a process that allows you to deploy to a\n"
          ]
        }
      ]
    }
  ]
}